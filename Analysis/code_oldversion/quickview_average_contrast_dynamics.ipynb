{
 "cells": [
  {
   "cell_type": "markdown",
   "metadata": {},
   "source": [
    "# PotentioDynamic Scattering Microscopy (PDSM)\n",
    "\n",
    "## Contrast oscillation analysis\n",
    " \n",
    "Author: ``Sanli Faez (s.faez@uu.nl)``\n",
    "\n",
    "last update: 27/2/2018\n",
    "1st version: 14/2/2018\n",
    "\n",
    "The main use of this notebook is to **test on a small scale** the functions necessary for extracting the scattering contrast oscillations.  \n",
    "\n",
    "The measurements are done using the a TIR scattering microscope at the surface of a transparent slab while an alternating potential is applied. The setup in Oxford uses labview and creates tdms datafiles. The setup in Utrecht generates HDF5 files. The rest of the analysis should be the same.\n",
    "\n",
    "### General advice\n",
    "Use the notebook for testing small datasets, or fractions of larger ones. Once the reliability is verfied, add the code pieces to an script and process batches of data.\n",
    "\n",
    "#### Addendum\n",
    "For now, it is har to converge on a very general treatments that can be applied to batches. Data should be analyzed with extensive supervision to avoid misleading results.\n",
    "\n",
    "\n",
    "### Roadmap\n",
    "Each step is separately tested and verified.\n",
    "\n",
    "* Part 1) preprocessing and previewing data\n",
    "* Part 2) Consructing the contrast oscillation map\n",
    "* Part 3) Summarizing the sequence in a representative plot\n",
    "* Part 4) Comparing responses for different conditions\n"
   ]
  },
  {
   "cell_type": "code",
   "execution_count": 7,
   "metadata": {},
   "outputs": [
    {
     "name": "stdout",
     "output_type": "stream",
     "text": [
      "Populating the interactive namespace from numpy and matplotlib\n"
     ]
    }
   ],
   "source": [
    "%pylab inline\n",
    "\n",
    "import sys\n",
    "sys.path.append('/Users/sanli/Repositories/PDSM') #uncomment including extra files are needed\n",
    "\n",
    "import matplotlib.pyplot as plt\n",
    "import numpy as np\n",
    "import os"
   ]
  },
  {
   "cell_type": "code",
   "execution_count": null,
   "metadata": {},
   "outputs": [],
   "source": [
    "# choose filename and output directory\n",
    "fdir = r'/Users/sanli/Repositories/Data/PDSM_UnderInvestigation/Shawn/190313/10mM NaCl on ITO_1ms_12mW_1.8Vpp triangle EF 1Hz_200fps/'\n",
    "mfile = 'event0.tdms'\n",
    "fext = '.tdms'\n",
    "fpath = fdir + mfile\n",
    "print(fpath)\n",
    "#outputdir = fdir + 'analyzed/' + mfile.strip(fext) + '/'\n",
    "outputdir = fdir"
   ]
  },
  {
   "cell_type": "markdown",
   "metadata": {},
   "source": [
    "### Import data from recorded image sequence files\n",
    "- First next two cells for are HDF5 snap and video (UUTrack). \n",
    "For HDF5, you should also choose which sequence from the file you want. Here it's called tracknumber and starts from 0. \n",
    "\n",
    "- For TDMS files from Oxford, use the other notebook with _tdms. \n"
   ]
  },
  {
   "cell_type": "code",
   "execution_count": null,
   "metadata": {
    "scrolled": false
   },
   "outputs": [],
   "source": [
    "## run Only for snaps\n",
    "from PDSM_func import functionsDFSM as dfsm  #functions written and maintained by Kevin \n",
    "data = dfsm.ImportHDF5data(fpath)\n",
    "data.setkey(0)\n",
    "print(\"Wherein there is :\", data.getkeys())\n",
    "dset = data[0]['image'] # to read a single snap image\n",
    "print(dset.shape)\n",
    "fig = plt.figure(figsize=(16,10))\n",
    "plt.imshow(np.transpose(np.log10(dset)), vmin = 0.1, vmax=3)\n",
    "plt.show()\n",
    "previewfile = outputdir + 'single_snap'\n",
    "fig.savefig(previewfile)"
   ]
  },
  {
   "cell_type": "code",
   "execution_count": null,
   "metadata": {},
   "outputs": [],
   "source": [
    "# Import HDF5 video sequence:\n",
    "from PDSM_func import functionsDFSM as dfsm  #functions written and maintained by Kevin \n",
    "data = dfsm.ImportHDF5data(fpath)\n",
    "data.setkey(0)\n",
    "print(\"Wherein there is :\", data.getkeys())\n",
    "data.resetkeys()\n",
    "tracknumber = 4\n",
    "seq = data[tracknumber,1] #Sanli: what is the second index?\n",
    "firstline = np.mean(seq[:,20,:], axis=0)\n",
    "nf = np.size(firstline[firstline >0])\n",
    "frames = seq[:,:,:nf]\n",
    "Lx, Ly, nf = frames.shape\n",
    "print(f\"{nf} frames of size {Lx, Ly} in the sequence\")"
   ]
  },
  {
   "cell_type": "markdown",
   "metadata": {},
   "source": [
    "## REMEMBER\n",
    "do not run this cell if you are importing HDF5 files"
   ]
  },
  {
   "cell_type": "code",
   "execution_count": 13,
   "metadata": {},
   "outputs": [
    {
     "name": "stdout",
     "output_type": "stream",
     "text": [
      "(3800, 512, 512)\n"
     ]
    }
   ],
   "source": [
    "print(frames.shape)"
   ]
  },
  {
   "cell_type": "code",
   "execution_count": 12,
   "metadata": {},
   "outputs": [
    {
     "ename": "IndexError",
     "evalue": "tuple index out of range",
     "output_type": "error",
     "traceback": [
      "\u001b[0;31m---------------------------------------------------------------------------\u001b[0m",
      "\u001b[0;31mIndexError\u001b[0m                                Traceback (most recent call last)",
      "\u001b[0;32m<ipython-input-12-b7f4bc4f171b>\u001b[0m in \u001b[0;36m<module>\u001b[0;34m()\u001b[0m\n\u001b[1;32m      2\u001b[0m     \u001b[0mos\u001b[0m\u001b[0;34m.\u001b[0m\u001b[0mmakedirs\u001b[0m\u001b[0;34m(\u001b[0m\u001b[0moutputdir\u001b[0m\u001b[0;34m)\u001b[0m\u001b[0;34m\u001b[0m\u001b[0m\n\u001b[1;32m      3\u001b[0m \u001b[0mfig\u001b[0m \u001b[0;34m=\u001b[0m \u001b[0mplt\u001b[0m\u001b[0;34m.\u001b[0m\u001b[0mfigure\u001b[0m\u001b[0;34m(\u001b[0m\u001b[0mfigsize\u001b[0m\u001b[0;34m=\u001b[0m\u001b[0;34m(\u001b[0m\u001b[0;36m16\u001b[0m\u001b[0;34m,\u001b[0m\u001b[0;36m6\u001b[0m\u001b[0;34m)\u001b[0m\u001b[0;34m)\u001b[0m\u001b[0;34m\u001b[0m\u001b[0m\n\u001b[0;32m----> 4\u001b[0;31m \u001b[0mfirstline\u001b[0m \u001b[0;34m=\u001b[0m \u001b[0mnp\u001b[0m\u001b[0;34m.\u001b[0m\u001b[0mmean\u001b[0m\u001b[0;34m(\u001b[0m\u001b[0mframes\u001b[0m\u001b[0;34m[\u001b[0m\u001b[0;34m:\u001b[0m\u001b[0;34m,\u001b[0m\u001b[0;36m20\u001b[0m\u001b[0;34m,\u001b[0m\u001b[0;34m:\u001b[0m\u001b[0;34m]\u001b[0m\u001b[0;34m,\u001b[0m \u001b[0maxis\u001b[0m\u001b[0;34m=\u001b[0m\u001b[0;36m2\u001b[0m\u001b[0;34m)\u001b[0m\u001b[0;34m\u001b[0m\u001b[0m\n\u001b[0m\u001b[1;32m      5\u001b[0m \u001b[0mplt\u001b[0m\u001b[0;34m.\u001b[0m\u001b[0mplot\u001b[0m\u001b[0;34m(\u001b[0m\u001b[0mfirstline\u001b[0m\u001b[0;34m[\u001b[0m\u001b[0;34m:\u001b[0m\u001b[0mnf\u001b[0m\u001b[0;34m]\u001b[0m\u001b[0;34m)\u001b[0m\u001b[0;34m\u001b[0m\u001b[0m\n\u001b[1;32m      6\u001b[0m \u001b[0mplt\u001b[0m\u001b[0;34m.\u001b[0m\u001b[0mtitle\u001b[0m\u001b[0;34m(\u001b[0m\u001b[0;34m\"average of a sample line\"\u001b[0m\u001b[0;34m)\u001b[0m\u001b[0;34m\u001b[0m\u001b[0m\n",
      "\u001b[0;32m/Library/Frameworks/Python.framework/Versions/3.6/lib/python3.6/site-packages/numpy/core/fromnumeric.py\u001b[0m in \u001b[0;36mmean\u001b[0;34m(a, axis, dtype, out, keepdims)\u001b[0m\n\u001b[1;32m   2907\u001b[0m \u001b[0;34m\u001b[0m\u001b[0m\n\u001b[1;32m   2908\u001b[0m     return _methods._mean(a, axis=axis, dtype=dtype,\n\u001b[0;32m-> 2909\u001b[0;31m                           out=out, **kwargs)\n\u001b[0m\u001b[1;32m   2910\u001b[0m \u001b[0;34m\u001b[0m\u001b[0m\n\u001b[1;32m   2911\u001b[0m \u001b[0;34m\u001b[0m\u001b[0m\n",
      "\u001b[0;32m/Library/Frameworks/Python.framework/Versions/3.6/lib/python3.6/site-packages/numpy/core/_methods.py\u001b[0m in \u001b[0;36m_mean\u001b[0;34m(a, axis, dtype, out, keepdims)\u001b[0m\n\u001b[1;32m     55\u001b[0m \u001b[0;34m\u001b[0m\u001b[0m\n\u001b[1;32m     56\u001b[0m     \u001b[0mis_float16_result\u001b[0m \u001b[0;34m=\u001b[0m \u001b[0;32mFalse\u001b[0m\u001b[0;34m\u001b[0m\u001b[0m\n\u001b[0;32m---> 57\u001b[0;31m     \u001b[0mrcount\u001b[0m \u001b[0;34m=\u001b[0m \u001b[0m_count_reduce_items\u001b[0m\u001b[0;34m(\u001b[0m\u001b[0marr\u001b[0m\u001b[0;34m,\u001b[0m \u001b[0maxis\u001b[0m\u001b[0;34m)\u001b[0m\u001b[0;34m\u001b[0m\u001b[0m\n\u001b[0m\u001b[1;32m     58\u001b[0m     \u001b[0;31m# Make this warning show up first\u001b[0m\u001b[0;34m\u001b[0m\u001b[0;34m\u001b[0m\u001b[0m\n\u001b[1;32m     59\u001b[0m     \u001b[0;32mif\u001b[0m \u001b[0mrcount\u001b[0m \u001b[0;34m==\u001b[0m \u001b[0;36m0\u001b[0m\u001b[0;34m:\u001b[0m\u001b[0;34m\u001b[0m\u001b[0m\n",
      "\u001b[0;32m/Library/Frameworks/Python.framework/Versions/3.6/lib/python3.6/site-packages/numpy/core/_methods.py\u001b[0m in \u001b[0;36m_count_reduce_items\u001b[0;34m(arr, axis)\u001b[0m\n\u001b[1;32m     48\u001b[0m     \u001b[0mitems\u001b[0m \u001b[0;34m=\u001b[0m \u001b[0;36m1\u001b[0m\u001b[0;34m\u001b[0m\u001b[0m\n\u001b[1;32m     49\u001b[0m     \u001b[0;32mfor\u001b[0m \u001b[0max\u001b[0m \u001b[0;32min\u001b[0m \u001b[0maxis\u001b[0m\u001b[0;34m:\u001b[0m\u001b[0;34m\u001b[0m\u001b[0m\n\u001b[0;32m---> 50\u001b[0;31m         \u001b[0mitems\u001b[0m \u001b[0;34m*=\u001b[0m \u001b[0marr\u001b[0m\u001b[0;34m.\u001b[0m\u001b[0mshape\u001b[0m\u001b[0;34m[\u001b[0m\u001b[0max\u001b[0m\u001b[0;34m]\u001b[0m\u001b[0;34m\u001b[0m\u001b[0m\n\u001b[0m\u001b[1;32m     51\u001b[0m     \u001b[0;32mreturn\u001b[0m \u001b[0mitems\u001b[0m\u001b[0;34m\u001b[0m\u001b[0m\n\u001b[1;32m     52\u001b[0m \u001b[0;34m\u001b[0m\u001b[0m\n",
      "\u001b[0;31mIndexError\u001b[0m: tuple index out of range"
     ]
    },
    {
     "data": {
      "text/plain": [
       "<matplotlib.figure.Figure at 0x1fdc225f8>"
      ]
     },
     "metadata": {},
     "output_type": "display_data"
    }
   ],
   "source": [
    "if not os.path.exists(outputdir):\n",
    "    os.makedirs(outputdir)\n",
    "fig = plt.figure(figsize=(16,6))\n",
    "firstline = np.mean(frames[:,20,:], axis=2)\n",
    "plt.plot(firstline[:nf])\n",
    "plt.title(\"average of a sample line\")\n",
    "plt.xlabel(\"frame number\")\n",
    "plt.show()\n",
    "previewfile = outputdir + 'singleline'\n",
    "# fig.savefig(previewfile)"
   ]
  },
  {
   "cell_type": "markdown",
   "metadata": {},
   "source": [
    "### Render some frames and check the drift\n",
    "Rule of thumb: if the measurement is on stationary sample the average absolute drift is less than 0.01 when the setup is stable."
   ]
  },
  {
   "cell_type": "code",
   "execution_count": null,
   "metadata": {},
   "outputs": [],
   "source": [
    "nmean = 40\n",
    "fig = plt.figure(figsize=(12,8))\n",
    "ax1 = plt.subplot(211)\n",
    "im = ax1.imshow(np.transpose(np.log10(np.mean(frames[:,:,:nmean],axis=2))), origin ='lower')\n",
    "plt.colorbar(im, ax = ax1)\n",
    "plt.title(\"average intensity\")\n",
    "\n",
    "ax2 = plt.subplot(212)\n",
    "drift = (frames[:,:,nf-1]-frames[:,:,0])/frames[:,:,0]\n",
    "im = ax2.imshow(np.transpose(drift), cmap='plasma', vmin=-0.5, vmax=1.0, origin ='lower')\n",
    "plt.colorbar(im, ax = ax2)\n",
    "plt.title(\"r'$\\sigma(I)/\\sqrt{I}$'\")\n",
    "\n",
    "avg_drift = np.mean(np.abs(drift))\n",
    "print(f\"average relative change is {avg_drift}\")\n",
    "plt.show()\n",
    "previewfile = outputdir + mfile.strip(fext)+'_drift'\n",
    "fig.savefig(previewfile)"
   ]
  },
  {
   "cell_type": "markdown",
   "metadata": {},
   "source": [
    "### IF it is helpful \n",
    "Save a couple of images for further reference to the dataset"
   ]
  },
  {
   "cell_type": "code",
   "execution_count": null,
   "metadata": {},
   "outputs": [],
   "source": [
    "# previewfile = outputdir + mfile.strip(fext)+'_rawImage.npy'\n",
    "# np.save(previewfile, frames[:,:,0])\n"
   ]
  },
  {
   "cell_type": "markdown",
   "metadata": {},
   "source": [
    "### Divide the variance by the average to find oscilating spots/patterns\n",
    "For shot-noise limited background, this valus should be equal to one. Any excess amount means either technical noise (shaking/drift) or induced perturbasion (potentiodynamic contrast) "
   ]
  },
  {
   "cell_type": "code",
   "execution_count": null,
   "metadata": {},
   "outputs": [],
   "source": [
    "nmean = 600\n",
    "mean_img = np.mean(frames[:,:,:nmean], axis=2)\n",
    "dark = 92\n",
    "mean_img = mean_img - dark + 1\n",
    "\n",
    "## few lines to look at the differential variation signal rather than the images\n",
    "# dframes = np.copy(frames)    \n",
    "# for i in range(nf):\n",
    "#     dframes[:,:,i] = frames[:,:,i] - mean_img\n",
    "    \n",
    "print(\"average counts:\", np.mean(mean_img))\n",
    "\n",
    "var_img = np.std(frames[:,:,:600], axis=2)\n",
    "contrast_img = var_img/np.sqrt(mean_img)\n",
    "\n",
    "# nbins = 40\n",
    "# hist_img, bin_edges_img = np.histogram(contrast_img, bins = nbins)\n",
    "# hist_var, bin_edges_var = np.histogram(var_img, bins = nbins)"
   ]
  },
  {
   "cell_type": "code",
   "execution_count": null,
   "metadata": {},
   "outputs": [],
   "source": [
    "fig = plt.figure(figsize=(12,8))\n",
    "ax1 = plt.subplot(211)\n",
    "im1 = ax1.imshow(np.transpose(np.log10(mean_img[100:400,:])), origin ='lower')\n",
    "plt.colorbar(im1, ax = ax1)\n",
    "plt.title(\"logarithm of average intensity\")\n",
    "\n",
    "ax2 = plt.subplot(212)\n",
    "im2 = ax2.imshow(np.transpose(contrast_img[100:400,:]), cmap='plasma', vmax = 8, vmin = 0.9, origin ='lower')\n",
    "plt.colorbar(im2, ax = ax2)\n",
    "plt.title(r'$\\sigma(I)/\\sqrt{I}$')\n",
    "\n",
    "# ax3 = plt.subplot(223)\n",
    "# im3 = ax3.semilogy(bin_edges_img[:nbins], hist_img, '.-')\n",
    "# plt.title(\"Distribution of |deviation| from mean \")\n",
    "\n",
    "# ax4 = plt.subplot(224)\n",
    "# im4 = ax4.semilogy(bin_edges_var[:nbins], hist_var, '.-')\n",
    "# plt.title(\"Distribution of standard deviation\")\n",
    "\n",
    "previewfile = outputdir + mfile.strip(fext)+'_contrast.png'\n",
    "fig.savefig(previewfile)\n",
    "plt.show()"
   ]
  },
  {
   "cell_type": "markdown",
   "metadata": {},
   "source": [
    "### Choose one speckle spot to find the oscillation frequency and waveform\n",
    "To observe a clear oscillation, use the spot with highest variance/mean value. Adding a few neighboring pixels to that spot increases the signal to noise."
   ]
  },
  {
   "cell_type": "code",
   "execution_count": null,
   "metadata": {},
   "outputs": [],
   "source": [
    "spotmax = np.unravel_index(np.argmax(var_img, axis=None), var_img.shape)\n",
    "spotmin = np.unravel_index(np.argmin(var_img, axis=None), var_img.shape)\n",
    "\n",
    "# spotmax = [spotmax[0], spotmax[1]]\n",
    "print(\"max variations at \", spotmax)\n",
    "print(\"least variations at \", spotmin)\n",
    "spotmax = (210, 150)\n",
    "psw = 20 # esitmate fwhm of the speckle peak\n",
    "specklemax = frames[spotmax[0]-psw:spotmax[0]+psw+1, spotmax[1]-psw:spotmax[1]+psw+1, :] - dark\n",
    "responsemax = np.sum(np.sum(specklemax, axis = 0), axis = 0)\n",
    "specklemin = frames[spotmin[0]-psw:spotmin[0]+psw+1, spotmin[1]-psw:spotmin[1]+psw+1, :] - dark\n",
    "responsemin = np.sum(np.sum(specklemin, axis = 0), axis = 0)\n",
    "\n",
    "varspotmax = np.std(responsemax)/np.mean(responsemax)\n",
    "print(\"relative intensity variation\", varspotmax)\n",
    "\n",
    "fig = plt.figure(figsize=(16,4))\n",
    "plt.plot(responsemax[:], '.-')\n",
    "#plt.plot(responsemin)\n",
    "plt.show()"
   ]
  },
  {
   "cell_type": "markdown",
   "metadata": {},
   "source": [
    "### Find the Fourier component(s) corresponding to the oscillating potential\n",
    "This part can be tricky if the oscillations are not prominent. Choose dcbase so that the value at the lower components is less that the peak value on the spectrum. \n",
    "\n",
    "Also check for presence of higher harmonics."
   ]
  },
  {
   "cell_type": "code",
   "execution_count": null,
   "metadata": {},
   "outputs": [],
   "source": [
    "print(f\"{nf} frames of size {Lx, Ly} in the sequence\")"
   ]
  },
  {
   "cell_type": "code",
   "execution_count": null,
   "metadata": {},
   "outputs": [],
   "source": [
    "fspec = np.fft.rfft(responsemax)\n",
    "\n",
    "maxfc = 150 #fourier index above which is irrelevant for the analysis\n",
    "dcbase = 7   #fourier index below which counts as drift\n",
    "plt.plot(np.log10(abs(fspec[dcbase:maxfc])))\n",
    "# plt.plot(np.angle(fspec[dcbase:220]))\n",
    "\n",
    "mfreq = dcbase + np.argmax(abs(fspec[dcbase:maxfc]))\n",
    "#shfreq = mfreq + dcbase + np.argmax(abs(fspec[mfreq + dcbase:]))\n",
    "#thirdfreq = shfreq + dcbase + np.argmax(abs(fspec[shfreq + dcbase:]))\n",
    "\n",
    "print(\"Fourier components:\", mfreq)\n",
    "#plt.plot(np.arange(mfreq-1,mfreq+2), abs(fspec[mfreq-1:mfreq+2]), '.')\n",
    "plt.show()\n"
   ]
  },
  {
   "cell_type": "markdown",
   "metadata": {},
   "source": [
    "### Find the average waveform for selected points\n",
    "\n",
    "TO BE COMPLETED"
   ]
  },
  {
   "cell_type": "markdown",
   "metadata": {},
   "source": [
    "### Map the fourier components\n",
    "The first cell is the most computation intensive part. The second cell is only for rendering the outcome."
   ]
  },
  {
   "cell_type": "code",
   "execution_count": null,
   "metadata": {},
   "outputs": [],
   "source": [
    "## if you're just checking background noise, comment following lines when analyzing oscillating contrasts\n",
    "# mfreq = 27\n",
    "# shfreq = 63\n",
    "\n",
    "# to save testing time, generate harmonic contrast images on smaller areas\n",
    "region = 1\n",
    "if region == 1:\n",
    "    xminf, xmaxf = 500, 700\n",
    "    yminf, ymaxf = 0, 140\n",
    "elif region == 2: \n",
    "    xminf, xmaxf = 150, 300  #alternative region\n",
    "    yminf, ymaxf = 0, Ly\n",
    "elif region == 3: \n",
    "    xminf, xmaxf = 300, 450  #alternative region\n",
    "    yminf, ymaxf = 0, Ly\n",
    "    \n",
    "selection = frames[xminf:xmaxf, yminf:ymaxf, :] \n",
    "meansel = mean_img[xminf:xmaxf, yminf:ymaxf]\n",
    "contrast = contrast_img[xminf:xmaxf, yminf:ymaxf]\n",
    "\n",
    "\n",
    "ffpwidth = 2 #estimated half width of the Fourier peak in the power spectrum\n",
    "frames_fft = np.fft.rfft(selection, axis=2)/nf\n",
    "first_harmonic = np.sum(np.power(np.abs(frames_fft[:, :, mfreq-ffpwidth:mfreq+ffpwidth+1]),2), axis=2)\n",
    "\n",
    "phase = np.angle(frames_fft[:,:, mfreq])/np.pi"
   ]
  },
  {
   "cell_type": "code",
   "execution_count": null,
   "metadata": {
    "scrolled": false
   },
   "outputs": [],
   "source": [
    "seltag = \"corners\"+str(xminf)+\"x\"+str(yminf)+\"x\"+str(xmaxf)+\"x\"+str(ymaxf)\n",
    "\n",
    "fftmax = np.unravel_index(np.argmax(first_harmonic, axis=None), first_harmonic.shape)\n",
    "# print(fftmax+[xminf, yminf])\n",
    "fig = plt.figure(figsize=(16,16))\n",
    "\n",
    "ax1 = plt.subplot(221)\n",
    "im = ax1.imshow(contrast, extent=(yminf,ymaxf,xminf,xmaxf), origin ='lower')\n",
    "plt.colorbar(im, ax = ax1)\n",
    "plt.title(\"Oscillation contrast\")\n",
    "\n",
    "ax2 = plt.subplot(222)\n",
    "im = ax2.imshow(np.log10(first_harmonic), vmin=0, extent=(yminf,ymaxf,xminf,xmaxf), origin ='lower')\n",
    "plt.colorbar(im, ax = ax2)\n",
    "plt.title(\"Log of harmonic component\")\n",
    "\n",
    "ax3 = plt.subplot(224)\n",
    "im = ax3.imshow(phase, cmap='hsv', extent=(yminf,ymaxf,xminf,xmaxf), origin ='lower')\n",
    "plt.colorbar(im, ax = ax3)\n",
    "plt.title(\"Oscillation phase\")\n",
    "\n",
    "ax4 = plt.subplot(223)\n",
    "im = ax4.imshow(first_harmonic/meansel, cmap='jet', extent=(yminf,ymaxf,xminf,xmaxf), origin ='lower')\n",
    "plt.colorbar(im, ax = ax4)\n",
    "plt.title(\"Harmonic factor divided by intensity \")\n",
    "\n",
    "\n",
    "\n",
    "# nbins = 40\n",
    "# hist_harmonic, bin_edges_harmonic = np.histogram(first_harmonic/nf, bins = nbins)\n",
    "\n",
    "# ax4 = plt.subplot(224)\n",
    "# ax4.semilogy(bin_edges_harmonic[:nbins], hist_harmonic, '*-')\n",
    "# ax4.semilogy(bin_edges_var[:nbins], hist_var, '.-')\n",
    "# plt.title(\"Distribution of harmonic amplitudes and STD\")\n",
    "\n",
    "plt.show()\n",
    "\n",
    "# saving some of the data\n",
    "previewfile = outputdir + mfile.strip(fext)+seltag+'_Summary.png'\n",
    "fig.savefig(previewfile)\n",
    "\n",
    "output = outputdir + mfile.strip(fext)+seltag+'_firstharmonic.npy'\n",
    "np.save(output, first_harmonic)"
   ]
  },
  {
   "cell_type": "markdown",
   "metadata": {},
   "source": [
    "### Plot intensity vs time at interesting spots"
   ]
  },
  {
   "cell_type": "code",
   "execution_count": null,
   "metadata": {
    "scrolled": false
   },
   "outputs": [],
   "source": [
    "wx, wy = 5, 10  #estimated half width of speckle size, check that phase is constant over this area\n",
    "bx, by = meansel.shape[0], meansel.shape[1]\n",
    "selminmarg = meansel[wx:bx-wx-1, wy:by-wy-1] #used to make sure chosen spekle spots are completely inside the selection\n",
    "fig = plt.figure(figsize=(18,16))\n",
    "\n",
    "ax1 = plt.subplot(321)\n",
    "im = ax1.imshow(np.log10(first_harmonic), vmin=0, extent=(yminf,ymaxf,xminf,xmaxf), origin ='lower')\n",
    "# im = ax1.imshow(meansel, vmax=2000, extent=(yminf,ymaxf,xminf,xmaxf), origin ='lower')\n",
    "plt.colorbar(im, ax = ax1)\n",
    "plt.title(\"Harmonic power\")\n",
    "\n",
    "mx, my = np.unravel_index(np.argmax(first_harmonic[wx:bx-wx-1, wy:by-wy-1]/selminmarg), selminmarg.shape)\n",
    "mx = mx + wx\n",
    "my = my + wy\n",
    "avg_spot = np.mean(np.mean(selection[mx-wx:mx+wx+1, my-wy:my+wy+1,:]-dark, axis=0), axis=0)\n",
    "spots = [avg_spot]\n",
    "#print(mx + xminf,my + yminf)\n",
    "fh = first_harmonic[mx, my]\n",
    "si = np.mean(avg_spot)\n",
    "\n",
    "ax2 = plt.subplot(322)\n",
    "ax2.plot(avg_spot,'.')\n",
    "ax1.scatter(my + yminf, mx + xminf, s=8, c='red', marker='o')\n",
    "plt.title(f\"Highest harmonic relative to intensity at {mx + xminf, my + yminf}\")\n",
    "ax2.text(0.05,0.9, \"harmonic value: %0.4f, mean: %0.4f\"%(fh, si), transform=ax2.transAxes,\n",
    "      fontsize=16, color = 'red', va='top')\n",
    "\n",
    "mx, my = np.unravel_index(np.argmax(selminmarg), selminmarg.shape)\n",
    "# mx, my = 115, 70\n",
    "mx = mx + wx\n",
    "my = my + wy\n",
    "avg_spot = np.mean(np.mean(selection[mx-wx:mx+wx+1, my-wy:my+wy+1,:]-dark, axis=0), axis=0)\n",
    "#print(mx + xminf,my + yminf)\n",
    "fh = first_harmonic[mx, my]\n",
    "si = np.mean(avg_spot)\n",
    "spots = numpy.concatenate([spots, [avg_spot]], axis=0)\n",
    "\n",
    "ax3 = plt.subplot(323)\n",
    "ax3.plot(avg_spot,'.')\n",
    "ax1.scatter(my + yminf, mx + xminf, s=8, c='orange', marker='o')\n",
    "plt.title(f\"Brightest speckle intensity at {mx + xminf, my + yminf}\")\n",
    "#plt.title(f\"handpicked point {mx + xminf, my + yminf}\")\n",
    "ax3.text(0.05,0.9, \"harmonic value: %0.4f, mean: %0.4f\"%(fh, si), transform=ax3.transAxes,\n",
    "      fontsize=16, color = 'orange', va='top')\n",
    "\n",
    "mx, my = np.unravel_index(np.argmax(contrast[wx:bx-wx-1, wy:by-wy-1]), selminmarg.shape)\n",
    "if region==1: \n",
    "    mx, my = 32, 30\n",
    "elif region ==2:\n",
    "    mx, my = 70, 18\n",
    "elif region ==3:\n",
    "    mx, my = 6, 113\n",
    "mx = mx + wx\n",
    "my = my + wy\n",
    "avg_spot = np.mean(np.mean(selection[mx-wx:mx+wx+1, my-wy:my+wy+1,:]-dark, axis=0), axis=0)\n",
    "#print(mx + xminf,my + yminf)\n",
    "fh = first_harmonic[mx, my]\n",
    "si = np.mean(avg_spot)\n",
    "spots = numpy.concatenate([spots, [avg_spot]], axis=0)\n",
    "\n",
    "ax4 = plt.subplot(324)\n",
    "ax4.plot(avg_spot,'.')\n",
    "ax1.scatter(my + yminf, mx + xminf, s=8, c='cyan', marker='o')\n",
    "#plt.title(f\"Highest intensity variance at {mx + xminf, my + yminf}\")\n",
    "plt.title(f\"handpicked point {mx + xminf, my + yminf}\")\n",
    "ax4.text(0.05,0.9, \"harmonic value: %0.4f, mean: %0.4f\"%(fh, si), transform=ax4.transAxes,\n",
    "      fontsize=16, color = 'cyan', va='top')\n",
    "\n",
    "if region==1: \n",
    "    mx, my = 172, 14\n",
    "elif region ==2:\n",
    "    mx, my = 100, 122\n",
    "elif region ==3:\n",
    "    mx, my = 105, 90\n",
    "mx = mx + wx\n",
    "my = my + wy\n",
    "avg_spot = np.mean(np.mean(selection[mx-wx:mx+wx+1, my-wy:my+wy+1,:]-dark, axis=0), axis=0)\n",
    "#print(mx + xminf,my + yminf)\n",
    "fh = first_harmonic[mx, my]\n",
    "si = np.mean(avg_spot)\n",
    "spots = numpy.concatenate([spots, [avg_spot]], axis=0)\n",
    "\n",
    "ax5 = plt.subplot(325)\n",
    "ax5.plot(avg_spot,'.')\n",
    "ax1.scatter(my + yminf, mx + xminf, s=8, c='cyan', marker='o')\n",
    "#plt.title(f\"Highest intensity variance at {mx + xminf, my + yminf}\")\n",
    "plt.title(f\"handpicked point {mx + xminf, my + yminf}\")\n",
    "ax5.text(0.05,0.9, \"harmonic value: %0.4f, mean: %0.4f\"%(fh, si), transform=ax5.transAxes,\n",
    "      fontsize=16, color = 'cyan', va='top')\n",
    "\n",
    "if region==1: \n",
    "    mx, my = 69, 116\n",
    "elif region ==2:\n",
    "    mx, my = 62, 140\n",
    "elif region ==3:\n",
    "    mx, my = 62, 155\n",
    "mx = mx + wx\n",
    "my = my + wy\n",
    "avg_spot = np.mean(np.mean(selection[mx-wx:mx+wx+1, my-wy:my+wy+1,:]-dark, axis=0), axis=0)\n",
    "#print(mx + xminf,my + yminf)\n",
    "fh = first_harmonic[mx, my]\n",
    "si = np.mean(avg_spot)\n",
    "spots = numpy.concatenate([spots, [avg_spot]], axis=0)\n",
    "\n",
    "ax6 = plt.subplot(326)\n",
    "ax6.plot(avg_spot,'.')\n",
    "ax1.scatter(my + yminf, mx + xminf, s=8, c='cyan', marker='o')\n",
    "#plt.title(f\"Highest intensity variance at {mx + xminf, my + yminf}\")\n",
    "plt.title(f\"handpicked point {mx + xminf, my + yminf}\")\n",
    "ax6.text(0.05,0.9, \"harmonic value: %0.4f, mean: %0.4f\"%(fh, si), transform=ax6.transAxes,\n",
    "      fontsize=16, color = 'cyan', va='top')\n",
    "\n",
    "plt.show()\n",
    "\n",
    "print(spots.shape)\n",
    "output = outputdir + mfile.strip(fext) + seltag + '_spots.png'\n",
    "fig.savefig(output)\n",
    "\n",
    "output = outputdir + mfile.strip(fext)+ seltag +'_spots.npy'\n",
    "np.save(output, spots)"
   ]
  },
  {
   "cell_type": "markdown",
   "metadata": {},
   "source": [
    "### Compare harmonic components on the same spot at different measurement conditions"
   ]
  },
  {
   "cell_type": "markdown",
   "metadata": {},
   "source": [
    "### Relate the magnitude of the harmonic coefficient to the amplitude of the oscillation"
   ]
  },
  {
   "cell_type": "code",
   "execution_count": null,
   "metadata": {},
   "outputs": [],
   "source": [
    "print(region)"
   ]
  },
  {
   "cell_type": "code",
   "execution_count": null,
   "metadata": {},
   "outputs": [],
   "source": []
  }
 ],
 "metadata": {
  "kernelspec": {
   "display_name": "Python 3",
   "language": "python",
   "name": "python3"
  },
  "language_info": {
   "codemirror_mode": {
    "name": "ipython",
    "version": 3
   },
   "file_extension": ".py",
   "mimetype": "text/x-python",
   "name": "python",
   "nbconvert_exporter": "python",
   "pygments_lexer": "ipython3",
   "version": "3.6.3"
  }
 },
 "nbformat": 4,
 "nbformat_minor": 2
}
