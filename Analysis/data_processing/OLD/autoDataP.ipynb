{
 "cells": [
  {
   "cell_type": "markdown",
   "metadata": {},
   "source": [
    "## ipynb version of dataProcessing_automated.py form 26-02-2019\n",
    "* Hope you like it\n",
    "\n",
    "\n",
    "Import things:"
   ]
  },
  {
   "cell_type": "code",
   "execution_count": null,
   "metadata": {},
   "outputs": [],
   "source": [
    "# -*- coding: utf-8 -*-\n",
    "\"\"\"\n",
    "Created on Mon Jan 28 09:50:16 2019\n",
    "\n",
    "@author: kevin\n",
    "\"\"\"\n",
    "\n",
    "import numpy as np\n",
    "import matplotlib.pyplot as plt\n",
    "import functionsDFSM as dfsm\n",
    "import os\n",
    "from scipy.optimize import curve_fit"
   ]
  },
  {
   "cell_type": "markdown",
   "metadata": {},
   "source": [
    "## Settings\n",
    "Set the settings for the data you want to process:"
   ]
  },
  {
   "cell_type": "code",
   "execution_count": null,
   "metadata": {},
   "outputs": [],
   "source": [
    "folder = \"/media/kevin/My Passport/2019-02-18-measurements/\"\n",
    "filename = \"NaI-Ptw3\"\n",
    "extension = \".hdf5\"\n",
    "movienumber = 3\n",
    "Tframe = 1/200.  # In seconds the time per frame \n",
    "\n",
    "averageforspot = True  # Take average of 9 pixels for the spot of interest or not\n",
    "hertz = 1\n",
    "Tsignal = 1./hertz  # In seconds, used a bit\n",
    "Asignal = 1.  # In volts, never used\n",
    "savedirName = 0\n",
    "\n",
    "averageforspot = True  # Take average of 9 pixels for the spot of interest or not\n",
    "extension = \".hdf5\""
   ]
  },
  {
   "cell_type": "markdown",
   "metadata": {},
   "source": [
    "Automatically make saving directory and make saving function for smaller code in the future:\n",
    "Also choose to save or not save automatically"
   ]
  },
  {
   "cell_type": "code",
   "execution_count": null,
   "metadata": {},
   "outputs": [],
   "source": [
    "save_automatically = False\n",
    "\n",
    "\n",
    "if savedirName == 0:\n",
    "    dirName = folder+filename+\"_m\"+str(movienumber)\n",
    "    if not os.path.exists(dirName):\n",
    "        os.makedirs(dirName)\n",
    "else:\n",
    "    dirName = savedirName\n",
    "    if not os.path.exists(dirName):\n",
    "        os.makedirs(dirName)\n",
    "\n",
    "data = dfsm.ImportHDF5data(folder+filename+extension)\n",
    "data.setkey(0)\n",
    "print(\"Wherein there is : \", data.getkeys())\n",
    "data.resetkeys()\n",
    "\n",
    "def customSave(figurename, plotted):\n",
    "    # Needs to be called when the figure is in \"memory\" needs a logical name of the figure and the plotted np data.\n",
    "    # Use to save the figure currently in use and the raw np data used to make it, puts it in the correct folder.\n",
    "    previewfile = dirName+\"/\"+figurename+\"_\"+filename+'_rawImage.npy'\n",
    "    np.save(previewfile, plotted)\n",
    "    plt.savefig(dirName+\"/\"+figurename+\"_\"+filename)"
   ]
  },
  {
   "cell_type": "markdown",
   "metadata": {},
   "source": [
    "## Check start and end of data and plot intensity of middle line over time:"
   ]
  },
  {
   "cell_type": "code",
   "execution_count": null,
   "metadata": {},
   "outputs": [],
   "source": [
    "FPsignal = Tsignal/Tframe  \n",
    "xrange, yrange, Nmax = data[movienumber-1,1].shape\n",
    "\n",
    "middleline = np.mean(data[movienumber-1,1][:,int(yrange/2),:], axis=0)\n",
    "nf = np.size(middleline[middleline>0])\n",
    "plt.plot(middleline[:nf])\n",
    "plt.title(\"Average of the center line\")\n",
    "plt.xlabel(\"Frame number\")\n",
    "plt.ylabel(\"Intensity (arb.u.)\")\n",
    "if save_automatically: \n",
    "    plt.savefig(dirName+\"/Average-Center-Line_\"+filename)\n",
    "plt.show()\n",
    "\n",
    "startframe = 0\n",
    "endframe = nf\n",
    "\n",
    "movie = np.array(data[movienumber-1,1][:,:,startframe:endframe])\n",
    "Nperiods = (endframe-startframe)/FPsignal  # This variable is used for knowing how many peaks to find for the self correlation\n",
    "\n",
    "print(\"startframe: %d \\nendframe: %d \\nxrange: 0 to %d \\nyrange: 0 to %d \\nNperiods: %lf (%d frames per signal in %d frames)\" %(startframe, endframe, xrange, yrange, Nperiods, FPsignal, endframe-startframe))"
   ]
  },
  {
   "cell_type": "markdown",
   "metadata": {},
   "source": [
    "## Time average of movie:"
   ]
  },
  {
   "cell_type": "code",
   "execution_count": null,
   "metadata": {},
   "outputs": [],
   "source": [
    "meanfigure = np.mean(movie[:,:,:], axis=2)\n",
    "\n",
    "plt.imshow(meanfigure, origin='lower')\n",
    "clb = plt.colorbar()\n",
    "clb.set_label('(arb.u.)')\n",
    "plt.title(\"Averaged Intensity\")\n",
    "plt.xlabel(\"y\")\n",
    "plt.ylabel(\"x\")\n",
    "\n",
    "if save_automatically: \n",
    "    figurename = \"Time-Averaged-Picture\"\n",
    "    plotted = meanfigure\n",
    "    customSave(figurename, plotted)\n",
    "\n",
    "plt.show()"
   ]
  },
  {
   "cell_type": "markdown",
   "metadata": {},
   "source": [
    "## Start looking for spot of interest by making a plot of the variance of the picture: "
   ]
  },
  {
   "cell_type": "code",
   "execution_count": null,
   "metadata": {},
   "outputs": [],
   "source": [
    "safelength = 5000  # Throw away part of the data if the data is too long to process quickly. \n",
    "\n",
    "movieTimeLength = endframe-startframe\n",
    "safeendframe, safestartframe = endframe, startframe\n",
    "if movieTimeLength > safelength:\n",
    "    safeendframe = endframe - int((movieTimeLength-safelength)/2)\n",
    "    safestartframe = startframe + int((movieTimeLength-safelength)/2)\n",
    "\n",
    "partOfMovieForVarPlot = np.array(movie[:,:,safestartframe:safeendframe]).copy()\n",
    "\n",
    "mean_img = np.mean(partOfMovieForVarPlot, axis=2)\n",
    "dark = np.min(mean_img)\n",
    "mean_img = mean_img - dark + 1\n",
    "\n",
    "varPlot = np.var(partOfMovieForVarPlot, axis=2)/mean_img"
   ]
  },
  {
   "cell_type": "markdown",
   "metadata": {},
   "source": [
    "## Find spot of interest, which is the spot with maximum variance: (with some limitations)"
   ]
  },
  {
   "cell_type": "code",
   "execution_count": null,
   "metadata": {},
   "outputs": [],
   "source": [
    "varPlotMOD = varPlot.copy()\n",
    "varPlotMOD[varPlotMOD>np.mean(varPlot)*4] = 0  # Filter very high values because they are probably irregularities.\n",
    "\n",
    "max_var_pos_x, max_var_pos_y = np.unravel_index(np.argmax(varPlotMOD), varPlot.shape)\n",
    "\n",
    "# Make plot of area:\n",
    "# First decide how big an area around it should be plotted:\n",
    "xmin, xmax = 0, xrange\n",
    "ymin, ymax = 0, yrange\n",
    "maxsizearoundpoint = 50\n",
    "xminf = max([xmin, max_var_pos_x-maxsizearoundpoint])\n",
    "xmaxf = min([xmax, max_var_pos_x+maxsizearoundpoint])\n",
    "yminf = max([ymin, max_var_pos_y-maxsizearoundpoint])\n",
    "ymaxf = min([ymax, max_var_pos_y+maxsizearoundpoint])\n",
    "\n",
    "if False:  # Make True to see the spot in the whole image:\n",
    "    plt.imshow(varPlot[0:xrange,0:yrange], extent=(0,yrange,0,xrange), clim=(0,500), origin='lower')\n",
    "    clb = plt.colorbar()\n",
    "    clb.set_label('(arb.u.)')\n",
    "    plt.title(\"VarI/I around maximum spot\")\n",
    "    plt.xlabel(\"y\")\n",
    "    plt.ylabel(\"x\")\n",
    "    plt.scatter(max_var_pos_y, max_var_pos_x, s=2, c='red', marker='o')\n",
    "    plt.show()\n",
    "\n",
    "# Plot and save:\n",
    "plt.imshow(varPlot[xminf:xmaxf,yminf:ymaxf], extent=(yminf,ymaxf,xminf,xmaxf), origin='lower')\n",
    "clb = plt.colorbar()\n",
    "clb.set_label('(arb.u.)')\n",
    "plt.title(\"VarI/I around maximum spot\")\n",
    "plt.xlabel(\"y\")\n",
    "plt.ylabel(\"x\")\n",
    "plt.scatter(max_var_pos_y, max_var_pos_x, s=2, c='red', marker='o')\n",
    "if save_automatically: \n",
    "    plt.savefig(dirName+\"/Variance-Around-Chosen-Maximum-Spot_\"+filename)\n",
    "plt.show()"
   ]
  },
  {
   "cell_type": "markdown",
   "metadata": {},
   "source": [
    "## Find the spot with minimum variance:"
   ]
  },
  {
   "cell_type": "code",
   "execution_count": null,
   "metadata": {},
   "outputs": [],
   "source": [
    "min_var_pos_x, min_var_pos_y = np.unravel_index(np.argmin(varPlot), varPlot.shape)\n",
    "\n",
    "# Make plot of area:\n",
    "xmin, xmax = 0, xrange\n",
    "ymin, ymax = 0, yrange\n",
    "xminf = max([xmin, min_var_pos_x-maxsizearoundpoint])\n",
    "xmaxf = min([xmax, min_var_pos_x+maxsizearoundpoint])\n",
    "yminf = max([ymin, min_var_pos_y-maxsizearoundpoint])\n",
    "ymaxf = min([ymax, min_var_pos_y+maxsizearoundpoint])\n",
    "plt.imshow(varPlot[xminf:xmaxf,yminf:ymaxf], extent=(yminf,ymaxf,xminf,xmaxf), origin='lower')\n",
    "clb = plt.colorbar()\n",
    "clb.set_label('(arb.u.)')\n",
    "plt.title(\"VarI/I around minimum spot\")\n",
    "plt.xlabel(\"y\")\n",
    "plt.ylabel(\"x\")\n",
    "plt.scatter(min_var_pos_y, min_var_pos_x, s=2, c='red', marker='o')\n",
    "plt.show()"
   ]
  },
  {
   "cell_type": "markdown",
   "metadata": {},
   "source": [
    "## Setup for looking at harmonic components and more and potentially make sure the SOI is interesting"
   ]
  },
  {
   "cell_type": "code",
   "execution_count": null,
   "metadata": {},
   "outputs": [],
   "source": [
    "maxFFTc = 100 # fourier index above which is irrelevant for the analysis\n",
    "dcbase = 10   # fourier index below which counts as drift\n",
    "\n",
    "xofinterest, yofinterest = max_var_pos_x, max_var_pos_y\n",
    "\n",
    "maxsizearoundpoint = 20\n",
    "xminf = max([xmin, max_var_pos_x-maxsizearoundpoint])\n",
    "xmaxf = min([xmax, max_var_pos_x+maxsizearoundpoint])\n",
    "yminf = max([ymin, max_var_pos_y-maxsizearoundpoint])\n",
    "ymaxf = min([ymax, max_var_pos_y+maxsizearoundpoint])\n",
    "partOfMovieForFFTVarPlot = partOfMovieForVarPlot[xminf:xmaxf,yminf:ymaxf,safestartframe:safeendframe]\n",
    "\n",
    "if False: # This is not necessary and takes long, so lets not do it\n",
    "    # Automatically find spot of interest in range around previously found spot,\n",
    "    # but now after fourier filtering the large and small components.\n",
    "    ROI_after_FFT = np.zeros_like(partOfMovieForFFTVarPlot)\n",
    "    if len(ROI_after_FFT[0,0,:])%2==1:  # Fix a thing with uneven frame numbers and FFT\n",
    "        ROI_after_FFT=ROI_after_FFT[:,:,:-1]\n",
    "    for i in range(len(partOfMovieForFFTVarPlot[:,0,0])):\n",
    "        for j in range(len(partOfMovieForFFTVarPlot[0,:,0])):\n",
    "            ROI_after_FFT[i,j,:] = dfsm.pixelFFTFilter(partOfMovieForFFTVarPlot[i,j,:], dcbase, maxFFTc)\n",
    "\n",
    "    mean_img = np.mean(partOfMovieForFFTVarPlot, axis=2)\n",
    "    dark = np.min(mean_img)\n",
    "    mean_img = mean_img - dark + 1\n",
    "\n",
    "    varPlotFFT = np.var(ROI_after_FFT, axis=2)/mean_img"
   ]
  },
  {
   "cell_type": "markdown",
   "metadata": {},
   "source": [
    "## Looking at the harmonic component:"
   ]
  },
  {
   "cell_type": "code",
   "execution_count": null,
   "metadata": {},
   "outputs": [],
   "source": [
    "if averageforspot:\n",
    "    SOI = movie[max_var_pos_x-1:max_var_pos_x+1, max_var_pos_y-1:max_var_pos_y+1, :]\n",
    "    SOI = np.mean(np.mean(SOI, axis=0), axis=0)\n",
    "else:\n",
    "    SOI = movie[max_var_pos_x, max_var_pos_y, :]\n",
    "\n",
    "FFTspec = np.fft.rfft(SOI)\n",
    "\n",
    "# Find maximum valued frequency\n",
    "mfreq = dcbase + np.argmax(abs(FFTspec[dcbase:maxFFTc]))\n",
    "#shfreq = mfreq + dcbase + np.argmax(abs(fspec[mfreq + dcbase:]))\n",
    "#thirdfreq = shfreq + dcbase + np.argmax(abs(fspec[shfreq + dcbase:]))\n",
    "print(\"Fourier components:\", mfreq)\n",
    "\n",
    "plt.plot(np.arange(dcbase, maxFFTc), np.log10(abs(FFTspec[dcbase:maxFFTc]))) # Give correct \"x\"axis\n",
    "plt.title(\"Fourier components of interest\")\n",
    "plt.xlabel(\"Fourier component\")\n",
    "plt.ylabel(\"Amplitude?\")\n",
    "plt.show()"
   ]
  },
  {
   "cell_type": "markdown",
   "metadata": {},
   "source": [
    "## Plotting the amplitude of the first harmonic for part of the figure:"
   ]
  },
  {
   "cell_type": "code",
   "execution_count": null,
   "metadata": {},
   "outputs": [],
   "source": [
    "ffpwidth = 3 #estimated half width of the Fourier peak in the power spectrum\n",
    "frames_fft = np.fft.rfft(partOfMovieForFFTVarPlot, axis=2)/len(partOfMovieForFFTVarPlot[0,0,:])\n",
    "first_harmonic = np.sum(np.abs(frames_fft[:, :, mfreq-ffpwidth:mfreq+ffpwidth+1]), axis=2)\n",
    "\n",
    "plt.imshow(first_harmonic, cmap='Greys_r', extent=(yminf,ymaxf,xminf,xmaxf), origin='lower')\n",
    "plt.title(\"First harmonic\")\n",
    "plt.xlabel(\"x\")\n",
    "plt.ylabel(\"y\")\n",
    "if save_automatically: \n",
    "    figurename = \"first_harmonic\"\n",
    "    plotted = first_harmonic\n",
    "    customSave(figurename, plotted)\n",
    "plt.show()"
   ]
  },
  {
   "cell_type": "markdown",
   "metadata": {},
   "source": [
    "## Plot the phase of part of the figure:"
   ]
  },
  {
   "cell_type": "code",
   "execution_count": null,
   "metadata": {},
   "outputs": [],
   "source": [
    "phase = np.angle(frames_fft[:,:, mfreq])/np.pi\n",
    "\n",
    "plt.imshow(phase, cmap='hsv', extent=(yminf,ymaxf,xminf,xmaxf), origin='lower')\n",
    "plt.title(\"Phase\")\n",
    "plt.xlabel(\"x\")\n",
    "plt.ylabel(\"y\")\n",
    "if save_automatically: \n",
    "    figurename = \"phase\"\n",
    "    plotted = phase\n",
    "    customSave(figurename, plotted)\n",
    "plt.show()"
   ]
  },
  {
   "cell_type": "markdown",
   "metadata": {},
   "source": [
    "## Plot the Fourier filtered spot of interest and its self correlation over time:"
   ]
  },
  {
   "cell_type": "code",
   "execution_count": null,
   "metadata": {},
   "outputs": [],
   "source": [
    "FFTspecFiltered = FFTspec.copy()\n",
    "FFTspecFiltered[:dcbase] = 0\n",
    "FFTspecFiltered[maxFFTc:] = 0\n",
    "specFiltered = np.fft.irfft(FFTspecFiltered)\n",
    "specFiltered = specFiltered[100:-100]  # Trow away the sides of the data because the FFT filter makes them ugly\n",
    "\n",
    "correlationAfterFramesFFT = dfsm.timeDependentCorrelation(specFiltered)\n",
    "\n",
    "plt.plot(specFiltered)\n",
    "plt.title(\"Spot of interest after filtering some Fourier components\")\n",
    "plt.xlabel(\"Time (frames)\")\n",
    "plt.ylabel(\"Intensity (arb. u.)\")\n",
    "if save_automatically: \n",
    "    figurename = \"Intensity_SOI-postFFT\"\n",
    "    plotted = specFiltered\n",
    "    customSave(figurename, plotted)\n",
    "plt.show()\n",
    "\n",
    "plt.plot(correlationAfterFramesFFT)\n",
    "plt.title(\"Self correlation of spot of interest after\\n filtering some Fourier components\")\n",
    "plt.xlabel(\"Time (frames)\")\n",
    "plt.ylabel(\"Correlation\")\n",
    "if save_automatically: \n",
    "    figurename = \"Self-Correlation-SOI-postFFT\"\n",
    "    plotted = correlationAfterFramesFFT\n",
    "    customSave(figurename, plotted)\n",
    "plt.show()"
   ]
  },
  {
   "cell_type": "markdown",
   "metadata": {},
   "source": [
    "## Automatically find the peaks in the self correlation:"
   ]
  },
  {
   "cell_type": "code",
   "execution_count": null,
   "metadata": {},
   "outputs": [],
   "source": [
    "approximateFirstDip = 0\n",
    "for i in range(len(correlationAfterFramesFFT)):\n",
    "    if correlationAfterFramesFFT[i+2]> correlationAfterFramesFFT[i]:\n",
    "        approximateFirstDip = i\n",
    "        break\n",
    "numberOfPeaksAveraged = int(Nperiods-1)\n",
    "\n",
    "def findSignalPeriodFromSelfcorrelation(selfcorrel, lowcut, npeaks):\n",
    "    maxValAtArr = np.array([0]*(npeaks+1))\n",
    "    actualpeaks = npeaks\n",
    "    for i in range(npeaks-1):\n",
    "        nextstart = maxValAtArr[i]+lowcut\n",
    "        nextend = nextstart+lowcut*2\n",
    "        if nextend>len(selfcorrel) or nextstart>len(selfcorrel):\n",
    "            actualpeaks = i+1\n",
    "            break\n",
    "        maxValAtArr[i+1] = nextstart + np.argmax(selfcorrel[nextstart:nextend])\n",
    "    maxValAtArr = maxValAtArr[:actualpeaks]\n",
    "    speriod = np.mean(np.diff(maxValAtArr))\n",
    "    eachperiod = maxValAtArr\n",
    "    return eachperiod, speriod\n",
    "\n",
    "periodmax, foundPeriod = findSignalPeriodFromSelfcorrelation(correlationAfterFramesFFT, approximateFirstDip, numberOfPeaksAveraged)\n",
    "print(\"Expecting periodicity of: \" + str(FPsignal))\n",
    "print(\"Found a periodicity of: \" + str(foundPeriod))\n",
    "print(\"From peaks in correlation at: \")\n",
    "print(periodmax)\n",
    "\n",
    "plt.plot(correlationAfterFramesFFT)\n",
    "plt.title(\"Self correlation of spot of interest after filtering\\n some Fourier components, found period: %.2lf\" %(foundPeriod))\n",
    "plt.xlabel(\"Time (frames)\")\n",
    "plt.ylabel(\"Correlation\")\n",
    "\n",
    "for i in periodmax:\n",
    "    plt.plot([i,i], [np.min(correlationAfterFramesFFT),np.max(correlationAfterFramesFFT)], color='r', linestyle='-', linewidth=1)\n",
    "\n",
    "if save_automatically: \n",
    "    figurename = \"Self-Correlation-SOI-postFFT-autoPeriodMarked\"\n",
    "    plotted = periodmax\n",
    "    customSave(figurename, plotted)\n",
    "plt.show()"
   ]
  },
  {
   "cell_type": "markdown",
   "metadata": {},
   "source": [
    "## Get how the average period looks like for the spot of interest after FFT filtering:"
   ]
  },
  {
   "cell_type": "code",
   "execution_count": null,
   "metadata": {},
   "outputs": [],
   "source": [
    "usableFilteredSignal = specFiltered\n",
    "n_periods, n_overlap = 1, 0\n",
    "\n",
    "def averagePeriod(filteredsignal, periodicity, n_periods, n_overlap):\n",
    "    # Average using n_periods periods and overlap n_overlap each time\n",
    "    aperiod = np.zeros(int(n_periods*periodicity))\n",
    "    periodsinsignal = int(len(filteredsignal)/periodicity)\n",
    "    n_periodsaveraged = int(periodsinsignal/(n_periods-n_overlap))\n",
    "    for i in range(n_periodsaveraged):\n",
    "        thisperiodstart = int(periodicity*i*(n_periods-n_overlap))\n",
    "        thisperiodend = int(thisperiodstart+periodicity*n_periods)\n",
    "        aperiod += filteredsignal[thisperiodstart:thisperiodend]/periodsinsignal\n",
    "    return aperiod \n",
    "\n",
    "foundAveragePeriod = averagePeriod(usableFilteredSignal, FPsignal, n_periods, n_overlap)\n",
    "\n",
    "plt.plot(foundAveragePeriod)\n",
    "plt.title(\"Averaged period\")\n",
    "plt.xlabel(\"Time (frames)\")\n",
    "plt.ylabel(\"Signal (arb.u.)\")\n",
    "if save_automatically: \n",
    "    plt.savefig(dirName+\"/AveragedPeriod_SOI-postFFT_\"+filename)\n",
    "plt.show()"
   ]
  },
  {
   "cell_type": "markdown",
   "metadata": {},
   "source": [
    "## Fit a sine to the data:"
   ]
  },
  {
   "cell_type": "code",
   "execution_count": null,
   "metadata": {},
   "outputs": [],
   "source": [
    "# Glue one set of data in front and back make it better\n",
    "fitoverN = 3\n",
    "fitData = np.ravel(np.array([foundAveragePeriod]*fitoverN))\n",
    "\n",
    "def fitsin(x, a, b, c):\n",
    "    return a * np.sin(-b*(x - c))\n",
    "xx = np.array(range(len(fitData)))\n",
    "\n",
    "# Set value bounds, might be a bit too forcefull right now:\n",
    "amin = 0.5 * max(foundAveragePeriod)\n",
    "amax = 1.5 * max(foundAveragePeriod)\n",
    "bmin = 0.5 * 2*np.pi/len(foundAveragePeriod)*n_periods\n",
    "bmax = 1.5 * 2*np.pi/len(foundAveragePeriod)*n_periods\n",
    "cmin = -.5 * len(foundAveragePeriod)\n",
    "cmax = 1.5 * len(foundAveragePeriod)\n",
    "\n",
    "popt, pcov = curve_fit(fitsin, xx, fitData, \n",
    "                       p0 = [max(foundAveragePeriod), 2*np.pi/len(foundAveragePeriod)*n_periods, np.argmax(foundAveragePeriod)],\n",
    "                       bounds=([amin, bmin, cmin], [amax, bmax, cmax]))\n",
    "\n",
    "\n",
    "plt.plot(xx[:int(len(xx)/fitoverN)], fitData[int(len(xx)/fitoverN):int(len(xx)/fitoverN*(fitoverN-1))], 'b.')\n",
    "plt.plot(xx[:int(len(xx)/fitoverN)], fitsin(xx[int(len(xx)/fitoverN):int(len(xx)/fitoverN*(fitoverN-1))], *popt), 'r-',\n",
    "         label='fitfunction: %1.2f sin( %1.2f (x - %1.2f))' % tuple(popt))\n",
    "plt.xlabel('Time (frames)')\n",
    "plt.ylabel('Signal (arb.u.)')\n",
    "plt.legend()\n",
    "if save_automatically: \n",
    "    figurename = \"FoundFit\"\n",
    "    customSave(figurename, foundAveragePeriod)\n",
    "plt.show()\n",
    "\n",
    "print(\"Optimal values (resp. [a b c]):\")\n",
    "print(popt)\n",
    "print(\"Covariation matrix:\")\n",
    "print(pcov)"
   ]
  },
  {
   "cell_type": "markdown",
   "metadata": {},
   "source": [
    "## Save all interesting data:"
   ]
  },
  {
   "cell_type": "code",
   "execution_count": null,
   "metadata": {},
   "outputs": [],
   "source": [
    "metadataishthing = np.array([(\"filename\", filename), \n",
    "                             (\"movienumber\", movienumber), \n",
    "                             (\"camera_fps\", Tsignal), \n",
    "                             (\"frames_per_signal\", FPsignal), \n",
    "                             (\"signal_amplitude_V\", Asignal), \n",
    "                             (\"signal_period_seconds\", Tsignal), \n",
    "                             (\"n_frames\", nf), \n",
    "                             (\"mfreq\", mfreq), \n",
    "                             (\"found_amplitude\", popt[0]) ], dtype='object, double')\n",
    "\n",
    "metadataishthingfile = dirName+\"/\"+data+\"_\"+filename+'.npy'\n",
    "if save_automatically: \n",
    "    np.save(metadataishthingfile, metadataishthing)"
   ]
  },
  {
   "cell_type": "markdown",
   "metadata": {},
   "source": [
    "## Another plot:\n",
    "Another way to summerize the data is Sum\\[I(t).sin(wt)\\] where w is the \n",
    "modulation frequency in 1/frames and the sum is taken over all images."
   ]
  },
  {
   "cell_type": "code",
   "execution_count": null,
   "metadata": {},
   "outputs": [],
   "source": [
    "def getSumIsinW(partOfMovieForFFTVarPlot, mfreq):\n",
    "    sumitsinwt = np.zeros_like(partOfMovieForFFTVarPlot[:,:,0])\n",
    "    for i in range(len(partOfMovieForFFTVarPlot[:,0,0])):\n",
    "        for j in range(len(partOfMovieForFFTVarPlot[0,:,0])):\n",
    "            sumitsinwt[i,j] = sum([partOfMovieForFFTVarPlot[i,j,t]*np.sin(1/mfreq*t) for t in range(len(partOfMovieForFFTVarPlot[0,0,:]))])\n",
    "    return sumitsinwt\n",
    "\n",
    "sumitsinwt = getSumIsinW(partOfMovieForFFTVarPlot, mfreq)\n",
    "plt.imshow(sumitsinwt, extent=(yminf,ymaxf,xminf,xmaxf), origin='lower')\n",
    "plt.title(\"Sum[I(t).sin(wt)] dt\")\n",
    "plt.xlabel(\"x\")\n",
    "plt.ylabel(\"y\")\n",
    "if save_automatically: \n",
    "    figurename = \"Sum-It-sinwt-dt\"\n",
    "    customSave(figurename, sumitsinwt)\n",
    "plt.show()"
   ]
  }
 ],
 "metadata": {
  "kernelspec": {
   "display_name": "Python 3",
   "language": "python",
   "name": "python3"
  },
  "language_info": {
   "codemirror_mode": {
    "name": "ipython",
    "version": 3
   },
   "file_extension": ".py",
   "mimetype": "text/x-python",
   "name": "python",
   "nbconvert_exporter": "python",
   "pygments_lexer": "ipython3",
   "version": "3.6.3"
  }
 },
 "nbformat": 4,
 "nbformat_minor": 2
}
