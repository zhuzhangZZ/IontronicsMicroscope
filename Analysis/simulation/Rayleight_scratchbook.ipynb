{
 "cells": [
  {
   "cell_type": "code",
   "execution_count": 1,
   "metadata": {},
   "outputs": [],
   "source": [
    "import numpy as np"
   ]
  },
  {
   "cell_type": "code",
   "execution_count": 9,
   "metadata": {},
   "outputs": [
    {
     "name": "stdout",
     "output_type": "stream",
     "text": [
      "0.47943928900747484 0.6527725563909774 45608.50000000001\n",
      "contrast = 0.00119410486911778\n"
     ]
    }
   ],
   "source": [
    "# some quick calculations\n",
    "\n",
    "n_p = 2.58 \n",
    "n_sol = 1.33\n",
    "a_ion = 0.18 #gas phase polarizability for Na\n",
    "a_cou = 3.66 #gas phase polarizability for Cl\n",
    "K_salt = 0.479\n",
    "p_radius = 12.5\n",
    "lb = 0.7 # Bjerrum length\n",
    "water_density = 33.2 #number of water molecules per nm^3\n",
    "V = 40 # potential value plus and minus in units of k_B T / e\n",
    "\n",
    "nfactor = ((n_p/n_sol)**2 - 1)/((n_p/n_sol)**2 + 2)\n",
    "\n",
    "salt_factor = 2 * K_salt / n_sol * (a_cou - a_ion) / (a_cou + a_ion)\n",
    "\n",
    "size_factor = 4 * 3.14 * lb * p_radius**2 * water_density\n",
    "\n",
    "print (nfactor, salt_factor, size_factor)\n",
    "\n",
    "pd_contrast = V * salt_factor / (size_factor * nfactor)\n",
    "\n",
    "print (\"contrast =\", pd_contrast)"
   ]
  },
  {
   "cell_type": "code",
   "execution_count": null,
   "metadata": {},
   "outputs": [],
   "source": []
  }
 ],
 "metadata": {
  "kernelspec": {
   "display_name": "Python 3",
   "language": "python",
   "name": "python3"
  },
  "language_info": {
   "codemirror_mode": {
    "name": "ipython",
    "version": 3
   },
   "file_extension": ".py",
   "mimetype": "text/x-python",
   "name": "python",
   "nbconvert_exporter": "python",
   "pygments_lexer": "ipython3",
   "version": "3.6.3"
  }
 },
 "nbformat": 4,
 "nbformat_minor": 2
}
